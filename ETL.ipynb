{
 "cells": [
  {
   "cell_type": "markdown",
   "id": "a72e2aaa",
   "metadata": {},
   "source": [
    "## DEPENDECIES FOR ALL THE PROJECT "
   ]
  },
  {
   "cell_type": "code",
   "execution_count": 2,
   "id": "1a207434",
   "metadata": {},
   "outputs": [],
   "source": [
    "# General purpose\n",
    "import os\n",
    "from dotenv import load_dotenv\n",
    "\n",
    "# Extract (Web Scraping)\n",
    "from selenium import webdriver\n",
    "from selenium.webdriver.common.by import By\n",
    "from selenium.webdriver.chrome.service import Service\n",
    "from webdriver_manager.chrome import ChromeDriverManager\n",
    "\n",
    "# Transform & Load\n",
    "import pandas as pd\n",
    "import numpy as np\n",
    "import sqlite3\n",
    "\n",
    "# API\n",
    "from flask import Flask, jsonify\n",
    "\n",
    "# Visualize\n",
    "import dash\n",
    "from dash import dcc, html\n",
    "import plotly.express as px\n"
   ]
  },
  {
   "cell_type": "markdown",
   "id": "ca860f68",
   "metadata": {},
   "source": [
    "## STEP #1: EXTRACTION OF DATA FROM WEB WITH SELENIUM"
   ]
  },
  {
   "cell_type": "code",
   "execution_count": 3,
   "id": "b9cc5cb4",
   "metadata": {},
   "outputs": [],
   "source": [
    "# Setting up browser for Chrome\n",
    "options = webdriver.ChromeOptions()\n",
    "\n",
    "# Run Chrome in headless mode \n",
    "options.add_argument(\"--headless\")  \n",
    "\n",
    "# Launch Chrome using the options settings above\n",
    "driver = webdriver.Chrome(service=Service(ChromeDriverManager().install()), options=options)  \n",
    "\n"
   ]
  },
  {
   "cell_type": "code",
   "execution_count": 4,
   "id": "01a027c1",
   "metadata": {},
   "outputs": [],
   "source": [
    "# Navigate browser to the bookscraping site\n",
    "driver.get(\"https://books.toscrape.com/\")\n"
   ]
  },
  {
   "cell_type": "code",
   "execution_count": 5,
   "id": "9eb97012",
   "metadata": {},
   "outputs": [
    {
     "name": "stdout",
     "output_type": "stream",
     "text": [
      "All products | Books to Scrape - Sandbox\n"
     ]
    }
   ],
   "source": [
    "# Tell the browser to show us the title of the current page (to doubule check if loaded correctly)\n",
    "print(driver.title)\n"
   ]
  },
  {
   "cell_type": "code",
   "execution_count": 6,
   "id": "7f94c630",
   "metadata": {},
   "outputs": [],
   "source": [
    "# Checking through the page and find all the books content (each book is inside an <article> tag with class 'product_pod')\n",
    "books = driver.find_elements(By.CLASS_NAME, \"product_pod\")\n"
   ]
  },
  {
   "cell_type": "code",
   "execution_count": 7,
   "id": "659e9275",
   "metadata": {},
   "outputs": [
    {
     "name": "stdout",
     "output_type": "stream",
     "text": [
      "Books found: 20\n"
     ]
    }
   ],
   "source": [
    "# Let's count how many books we found on the page\n",
    "print(\"Books found:\", len(books))\n"
   ]
  },
  {
   "cell_type": "markdown",
   "id": "85ee8d74",
   "metadata": {},
   "source": [
    "### SCRAPING PROCEDURE"
   ]
  },
  {
   "cell_type": "code",
   "execution_count": 8,
   "id": "873b1f31",
   "metadata": {},
   "outputs": [
    {
     "name": "stdout",
     "output_type": "stream",
     "text": [
      "First book title: A Light in the Attic\n"
     ]
    }
   ],
   "source": [
    "# Let's grab the title of the first book on the page\n",
    "first_title = books[0].find_element(By.TAG_NAME, \"h3\").find_element(By.TAG_NAME, \"a\").get_attribute(\"title\")\n",
    "\n",
    "# Show the title of the first book to confirm we got it right\n",
    "print(\"First book title:\", first_title)"
   ]
  },
  {
   "cell_type": "code",
   "execution_count": 9,
   "id": "ad8f30b3",
   "metadata": {},
   "outputs": [
    {
     "name": "stdout",
     "output_type": "stream",
     "text": [
      "First book price: £51.77\n"
     ]
    }
   ],
   "source": [
    "# Now let's get the price of the first book\n",
    "first_price = books[0].find_element(By.CLASS_NAME, \"price_color\").text\n",
    "\n",
    "# Show the price of the first book to confirm we got it right\n",
    "print(\"First book price:\", first_price)\n"
   ]
  },
  {
   "cell_type": "code",
   "execution_count": 10,
   "id": "6ce90dc7",
   "metadata": {},
   "outputs": [
    {
     "name": "stdout",
     "output_type": "stream",
     "text": [
      "First book availability: In stock\n"
     ]
    }
   ],
   "source": [
    "# Let's check if the first book is available (in stock or not)\n",
    "first_availability = books[0].find_element(By.CLASS_NAME, \"availability\").text.strip()\n",
    "\n",
    "# Show the availability of the first book to confirm we got it right\n",
    "print(\"First book availability:\", first_availability)\n"
   ]
  },
  {
   "cell_type": "code",
   "execution_count": 11,
   "id": "ac82b2ee",
   "metadata": {},
   "outputs": [
    {
     "name": "stdout",
     "output_type": "stream",
     "text": [
      "First book rating: Three\n"
     ]
    }
   ],
   "source": [
    "# Let's get the rating of the first book (like 'Three', 'Four', etc.)\n",
    "first_rating = books[0].find_element(By.CLASS_NAME, \"star-rating\").get_attribute(\"class\").split()[-1]\n",
    "\n",
    "# Show the rating of the first book to confirm we got it right\n",
    "print(\"First book rating:\", first_rating)"
   ]
  },
  {
   "cell_type": "code",
   "execution_count": 12,
   "id": "2ff7bdb0",
   "metadata": {},
   "outputs": [
    {
     "data": {
      "text/plain": [
       "[{'title': '...', 'price': '...', 'availability': '...', 'rating': '...'},\n",
       " Ellipsis]"
      ]
     },
     "execution_count": 12,
     "metadata": {},
     "output_type": "execute_result"
    }
   ],
   "source": [
    "[\n",
    "  {'title': '...', 'price': '...', 'availability': '...', 'rating': '...'},\n",
    "  ...\n",
    "]\n"
   ]
  },
  {
   "cell_type": "code",
   "execution_count": 13,
   "id": "95a7d9f1",
   "metadata": {},
   "outputs": [],
   "source": [
    "# Create a list to hold all the book data\n",
    "book_data = []\n"
   ]
  },
  {
   "cell_type": "code",
   "execution_count": 14,
   "id": "2dc38dba",
   "metadata": {},
   "outputs": [],
   "source": [
    "# Go through each book found on the page, one by one\n",
    "for book in books:\n",
    "\ttitle = book.find_element(By.TAG_NAME, \"h3\").find_element(By.TAG_NAME, \"a\").get_attribute(\"title\")\n",
    "\tprice = book.find_element(By.CLASS_NAME, \"price_color\").text\n",
    "\tavailability = book.find_element(By.CLASS_NAME, \"availability\").text.strip()\n",
    "\trating = book.find_element(By.CLASS_NAME, \"star-rating\").get_attribute(\"class\").split()[-1]\n",
    "\tbook_data.append({\n",
    "\t\t'title': title,\n",
    "\t\t'price': price,\n",
    "\t\t'availability': availability,\n",
    "\t\t'rating': rating\n",
    "\t})\n"
   ]
  },
  {
   "cell_type": "code",
   "execution_count": 15,
   "id": "7aa0438b",
   "metadata": {},
   "outputs": [
    {
     "name": "stdout",
     "output_type": "stream",
     "text": [
      "[{'title': 'A Light in the Attic', 'price': '£51.77', 'availability': 'In stock', 'rating': 'Three'}, {'title': 'Tipping the Velvet', 'price': '£53.74', 'availability': 'In stock', 'rating': 'One'}, {'title': 'Soumission', 'price': '£50.10', 'availability': 'In stock', 'rating': 'One'}]\n"
     ]
    }
   ],
   "source": [
    "# Show the first 3 books collected to preview the results\n",
    "print(book_data[:3])\n"
   ]
  },
  {
   "cell_type": "markdown",
   "id": "41630a96",
   "metadata": {},
   "source": [
    "## STEP #2: TRANSFORM"
   ]
  },
  {
   "cell_type": "code",
   "execution_count": 16,
   "id": "961af37b",
   "metadata": {},
   "outputs": [],
   "source": [
    "# Convert the list of book data into a DataFrame for easier manipulation\n",
    "df = pd.DataFrame(book_data)"
   ]
  },
  {
   "cell_type": "code",
   "execution_count": 17,
   "id": "ec708d78",
   "metadata": {},
   "outputs": [
    {
     "data": {
      "text/html": [
       "<div>\n",
       "<style scoped>\n",
       "    .dataframe tbody tr th:only-of-type {\n",
       "        vertical-align: middle;\n",
       "    }\n",
       "\n",
       "    .dataframe tbody tr th {\n",
       "        vertical-align: top;\n",
       "    }\n",
       "\n",
       "    .dataframe thead th {\n",
       "        text-align: right;\n",
       "    }\n",
       "</style>\n",
       "<table border=\"1\" class=\"dataframe\">\n",
       "  <thead>\n",
       "    <tr style=\"text-align: right;\">\n",
       "      <th></th>\n",
       "      <th>title</th>\n",
       "      <th>price</th>\n",
       "      <th>availability</th>\n",
       "      <th>rating</th>\n",
       "    </tr>\n",
       "  </thead>\n",
       "  <tbody>\n",
       "    <tr>\n",
       "      <th>0</th>\n",
       "      <td>A Light in the Attic</td>\n",
       "      <td>£51.77</td>\n",
       "      <td>In stock</td>\n",
       "      <td>Three</td>\n",
       "    </tr>\n",
       "    <tr>\n",
       "      <th>1</th>\n",
       "      <td>Tipping the Velvet</td>\n",
       "      <td>£53.74</td>\n",
       "      <td>In stock</td>\n",
       "      <td>One</td>\n",
       "    </tr>\n",
       "    <tr>\n",
       "      <th>2</th>\n",
       "      <td>Soumission</td>\n",
       "      <td>£50.10</td>\n",
       "      <td>In stock</td>\n",
       "      <td>One</td>\n",
       "    </tr>\n",
       "    <tr>\n",
       "      <th>3</th>\n",
       "      <td>Sharp Objects</td>\n",
       "      <td>£47.82</td>\n",
       "      <td>In stock</td>\n",
       "      <td>Four</td>\n",
       "    </tr>\n",
       "    <tr>\n",
       "      <th>4</th>\n",
       "      <td>Sapiens: A Brief History of Humankind</td>\n",
       "      <td>£54.23</td>\n",
       "      <td>In stock</td>\n",
       "      <td>Five</td>\n",
       "    </tr>\n",
       "  </tbody>\n",
       "</table>\n",
       "</div>"
      ],
      "text/plain": [
       "                                   title   price availability rating\n",
       "0                   A Light in the Attic  £51.77     In stock  Three\n",
       "1                     Tipping the Velvet  £53.74     In stock    One\n",
       "2                             Soumission  £50.10     In stock    One\n",
       "3                          Sharp Objects  £47.82     In stock   Four\n",
       "4  Sapiens: A Brief History of Humankind  £54.23     In stock   Five"
      ]
     },
     "execution_count": 17,
     "metadata": {},
     "output_type": "execute_result"
    }
   ],
   "source": [
    "# Visualizing the dataframe \n",
    "df.head()"
   ]
  },
  {
   "cell_type": "code",
   "execution_count": 18,
   "id": "9abe57a7",
   "metadata": {},
   "outputs": [],
   "source": [
    "# Removing the '£' symbol and convert the price column to float\n",
    "df['price'] = df['price'].str.replace('£', '').astype(float)"
   ]
  },
  {
   "cell_type": "code",
   "execution_count": 19,
   "id": "f3028650",
   "metadata": {},
   "outputs": [
    {
     "data": {
      "text/html": [
       "<div>\n",
       "<style scoped>\n",
       "    .dataframe tbody tr th:only-of-type {\n",
       "        vertical-align: middle;\n",
       "    }\n",
       "\n",
       "    .dataframe tbody tr th {\n",
       "        vertical-align: top;\n",
       "    }\n",
       "\n",
       "    .dataframe thead th {\n",
       "        text-align: right;\n",
       "    }\n",
       "</style>\n",
       "<table border=\"1\" class=\"dataframe\">\n",
       "  <thead>\n",
       "    <tr style=\"text-align: right;\">\n",
       "      <th></th>\n",
       "      <th>title</th>\n",
       "      <th>price</th>\n",
       "      <th>availability</th>\n",
       "      <th>rating</th>\n",
       "    </tr>\n",
       "  </thead>\n",
       "  <tbody>\n",
       "    <tr>\n",
       "      <th>0</th>\n",
       "      <td>A Light in the Attic</td>\n",
       "      <td>51.77</td>\n",
       "      <td>In stock</td>\n",
       "      <td>Three</td>\n",
       "    </tr>\n",
       "    <tr>\n",
       "      <th>1</th>\n",
       "      <td>Tipping the Velvet</td>\n",
       "      <td>53.74</td>\n",
       "      <td>In stock</td>\n",
       "      <td>One</td>\n",
       "    </tr>\n",
       "    <tr>\n",
       "      <th>2</th>\n",
       "      <td>Soumission</td>\n",
       "      <td>50.10</td>\n",
       "      <td>In stock</td>\n",
       "      <td>One</td>\n",
       "    </tr>\n",
       "    <tr>\n",
       "      <th>3</th>\n",
       "      <td>Sharp Objects</td>\n",
       "      <td>47.82</td>\n",
       "      <td>In stock</td>\n",
       "      <td>Four</td>\n",
       "    </tr>\n",
       "    <tr>\n",
       "      <th>4</th>\n",
       "      <td>Sapiens: A Brief History of Humankind</td>\n",
       "      <td>54.23</td>\n",
       "      <td>In stock</td>\n",
       "      <td>Five</td>\n",
       "    </tr>\n",
       "  </tbody>\n",
       "</table>\n",
       "</div>"
      ],
      "text/plain": [
       "                                   title  price availability rating\n",
       "0                   A Light in the Attic  51.77     In stock  Three\n",
       "1                     Tipping the Velvet  53.74     In stock    One\n",
       "2                             Soumission  50.10     In stock    One\n",
       "3                          Sharp Objects  47.82     In stock   Four\n",
       "4  Sapiens: A Brief History of Humankind  54.23     In stock   Five"
      ]
     },
     "execution_count": 19,
     "metadata": {},
     "output_type": "execute_result"
    }
   ],
   "source": [
    "# Verifying the changes without the '£' symbol\n",
    "df.head()"
   ]
  },
  {
   "cell_type": "code",
   "execution_count": 20,
   "id": "8b3ab574",
   "metadata": {},
   "outputs": [],
   "source": [
    "# Convert the rating words (e.g. 'Three') into numbers (e.g. 3.0)\n",
    "rating_map = {'One': 1, 'Two': 2, 'Three': 3, 'Four': 4, 'Five': 5}\n",
    "df['rating'] = df['rating'].map(rating_map).astype(float)\n"
   ]
  },
  {
   "cell_type": "code",
   "execution_count": 21,
   "id": "e54cd2a4",
   "metadata": {},
   "outputs": [],
   "source": [
    "# Create a new column converting GBP to USD using a fixed exchange rate\n",
    "exchange_rate = 1.28\n",
    "df['price_usd'] = df['price'] * exchange_rate\n"
   ]
  },
  {
   "cell_type": "code",
   "execution_count": 22,
   "id": "3f540763",
   "metadata": {},
   "outputs": [
    {
     "data": {
      "text/html": [
       "<div>\n",
       "<style scoped>\n",
       "    .dataframe tbody tr th:only-of-type {\n",
       "        vertical-align: middle;\n",
       "    }\n",
       "\n",
       "    .dataframe tbody tr th {\n",
       "        vertical-align: top;\n",
       "    }\n",
       "\n",
       "    .dataframe thead th {\n",
       "        text-align: right;\n",
       "    }\n",
       "</style>\n",
       "<table border=\"1\" class=\"dataframe\">\n",
       "  <thead>\n",
       "    <tr style=\"text-align: right;\">\n",
       "      <th></th>\n",
       "      <th>title</th>\n",
       "      <th>price</th>\n",
       "      <th>availability</th>\n",
       "      <th>rating</th>\n",
       "      <th>price_usd</th>\n",
       "    </tr>\n",
       "  </thead>\n",
       "  <tbody>\n",
       "    <tr>\n",
       "      <th>0</th>\n",
       "      <td>A Light in the Attic</td>\n",
       "      <td>51.77</td>\n",
       "      <td>In stock</td>\n",
       "      <td>3.0</td>\n",
       "      <td>66.2656</td>\n",
       "    </tr>\n",
       "    <tr>\n",
       "      <th>1</th>\n",
       "      <td>Tipping the Velvet</td>\n",
       "      <td>53.74</td>\n",
       "      <td>In stock</td>\n",
       "      <td>1.0</td>\n",
       "      <td>68.7872</td>\n",
       "    </tr>\n",
       "    <tr>\n",
       "      <th>2</th>\n",
       "      <td>Soumission</td>\n",
       "      <td>50.10</td>\n",
       "      <td>In stock</td>\n",
       "      <td>1.0</td>\n",
       "      <td>64.1280</td>\n",
       "    </tr>\n",
       "    <tr>\n",
       "      <th>3</th>\n",
       "      <td>Sharp Objects</td>\n",
       "      <td>47.82</td>\n",
       "      <td>In stock</td>\n",
       "      <td>4.0</td>\n",
       "      <td>61.2096</td>\n",
       "    </tr>\n",
       "    <tr>\n",
       "      <th>4</th>\n",
       "      <td>Sapiens: A Brief History of Humankind</td>\n",
       "      <td>54.23</td>\n",
       "      <td>In stock</td>\n",
       "      <td>5.0</td>\n",
       "      <td>69.4144</td>\n",
       "    </tr>\n",
       "  </tbody>\n",
       "</table>\n",
       "</div>"
      ],
      "text/plain": [
       "                                   title  price availability  rating  \\\n",
       "0                   A Light in the Attic  51.77     In stock     3.0   \n",
       "1                     Tipping the Velvet  53.74     In stock     1.0   \n",
       "2                             Soumission  50.10     In stock     1.0   \n",
       "3                          Sharp Objects  47.82     In stock     4.0   \n",
       "4  Sapiens: A Brief History of Humankind  54.23     In stock     5.0   \n",
       "\n",
       "   price_usd  \n",
       "0    66.2656  \n",
       "1    68.7872  \n",
       "2    64.1280  \n",
       "3    61.2096  \n",
       "4    69.4144  "
      ]
     },
     "execution_count": 22,
     "metadata": {},
     "output_type": "execute_result"
    }
   ],
   "source": [
    "# Show the updated DataFrame with the new USD prices\n",
    "df.head()\n"
   ]
  },
  {
   "cell_type": "code",
   "execution_count": 23,
   "id": "ebd9cdf4",
   "metadata": {},
   "outputs": [],
   "source": [
    "# Modifying the column \"price\" for \"price_gbp\"\n",
    "df.rename(columns={'price': 'price_gbp'}, inplace=True)"
   ]
  },
  {
   "cell_type": "code",
   "execution_count": 24,
   "id": "f188362c",
   "metadata": {},
   "outputs": [],
   "source": [
    "# Changing the column \"availability\" to \"in_stock\"\n",
    "df.rename(columns={'availability': 'in_stock'}, inplace=True)"
   ]
  },
  {
   "cell_type": "code",
   "execution_count": 25,
   "id": "488e479e",
   "metadata": {},
   "outputs": [],
   "source": [
    "# Moving column \"price_gbp\" to the end of the DataFrame\n",
    "df = df[['title', 'in_stock', 'rating', 'price_gbp', 'price_usd']]"
   ]
  },
  {
   "cell_type": "code",
   "execution_count": 26,
   "id": "626b69ad",
   "metadata": {},
   "outputs": [
    {
     "data": {
      "text/html": [
       "<div>\n",
       "<style scoped>\n",
       "    .dataframe tbody tr th:only-of-type {\n",
       "        vertical-align: middle;\n",
       "    }\n",
       "\n",
       "    .dataframe tbody tr th {\n",
       "        vertical-align: top;\n",
       "    }\n",
       "\n",
       "    .dataframe thead th {\n",
       "        text-align: right;\n",
       "    }\n",
       "</style>\n",
       "<table border=\"1\" class=\"dataframe\">\n",
       "  <thead>\n",
       "    <tr style=\"text-align: right;\">\n",
       "      <th></th>\n",
       "      <th>title</th>\n",
       "      <th>in_stock</th>\n",
       "      <th>rating</th>\n",
       "      <th>price_gbp</th>\n",
       "      <th>price_usd</th>\n",
       "    </tr>\n",
       "  </thead>\n",
       "  <tbody>\n",
       "    <tr>\n",
       "      <th>0</th>\n",
       "      <td>A Light in the Attic</td>\n",
       "      <td>In stock</td>\n",
       "      <td>3.0</td>\n",
       "      <td>51.77</td>\n",
       "      <td>66.2656</td>\n",
       "    </tr>\n",
       "    <tr>\n",
       "      <th>1</th>\n",
       "      <td>Tipping the Velvet</td>\n",
       "      <td>In stock</td>\n",
       "      <td>1.0</td>\n",
       "      <td>53.74</td>\n",
       "      <td>68.7872</td>\n",
       "    </tr>\n",
       "    <tr>\n",
       "      <th>2</th>\n",
       "      <td>Soumission</td>\n",
       "      <td>In stock</td>\n",
       "      <td>1.0</td>\n",
       "      <td>50.10</td>\n",
       "      <td>64.1280</td>\n",
       "    </tr>\n",
       "    <tr>\n",
       "      <th>3</th>\n",
       "      <td>Sharp Objects</td>\n",
       "      <td>In stock</td>\n",
       "      <td>4.0</td>\n",
       "      <td>47.82</td>\n",
       "      <td>61.2096</td>\n",
       "    </tr>\n",
       "    <tr>\n",
       "      <th>4</th>\n",
       "      <td>Sapiens: A Brief History of Humankind</td>\n",
       "      <td>In stock</td>\n",
       "      <td>5.0</td>\n",
       "      <td>54.23</td>\n",
       "      <td>69.4144</td>\n",
       "    </tr>\n",
       "  </tbody>\n",
       "</table>\n",
       "</div>"
      ],
      "text/plain": [
       "                                   title  in_stock  rating  price_gbp  \\\n",
       "0                   A Light in the Attic  In stock     3.0      51.77   \n",
       "1                     Tipping the Velvet  In stock     1.0      53.74   \n",
       "2                             Soumission  In stock     1.0      50.10   \n",
       "3                          Sharp Objects  In stock     4.0      47.82   \n",
       "4  Sapiens: A Brief History of Humankind  In stock     5.0      54.23   \n",
       "\n",
       "   price_usd  \n",
       "0    66.2656  \n",
       "1    68.7872  \n",
       "2    64.1280  \n",
       "3    61.2096  \n",
       "4    69.4144  "
      ]
     },
     "execution_count": 26,
     "metadata": {},
     "output_type": "execute_result"
    }
   ],
   "source": [
    "# Verying the changes of column name \"price\" for \"price_gbp\", the position of the column, columns names and the data types\n",
    "df.head()"
   ]
  },
  {
   "cell_type": "markdown",
   "id": "43584dff",
   "metadata": {},
   "source": [
    "## STEP 3: LOAD THE DATA INTO SQLITE & GET A CSV FILE "
   ]
  },
  {
   "cell_type": "code",
   "execution_count": 27,
   "id": "70fd9dfe",
   "metadata": {},
   "outputs": [],
   "source": [
    "# Load the DataFrame into a SQLite database\n",
    "conn = sqlite3.connect('books.db')\n"
   ]
  },
  {
   "cell_type": "code",
   "execution_count": 28,
   "id": "82782506",
   "metadata": {},
   "outputs": [
    {
     "data": {
      "text/plain": [
       "20"
      ]
     },
     "execution_count": 28,
     "metadata": {},
     "output_type": "execute_result"
    }
   ],
   "source": [
    "# Write the DataFrame to a table named 'books' in the SQLite database\n",
    "df.to_sql('books', conn, if_exists='replace', index=False)  "
   ]
  },
  {
   "cell_type": "code",
   "execution_count": null,
   "id": "3f44cd61",
   "metadata": {},
   "outputs": [],
   "source": [
    "# Export the cleaned DataFrame to a CSV file with condintional to avoid duplicateds\n",
    "\n",
    "if not os.path.exists(\"books_cleaned.csv\"):\n",
    "    df.to_csv(\"books_cleaned.csv\", index=False)\n"
   ]
  }
 ],
 "metadata": {
  "kernelspec": {
   "display_name": "base",
   "language": "python",
   "name": "python3"
  },
  "language_info": {
   "codemirror_mode": {
    "name": "ipython",
    "version": 3
   },
   "file_extension": ".py",
   "mimetype": "text/x-python",
   "name": "python",
   "nbconvert_exporter": "python",
   "pygments_lexer": "ipython3",
   "version": "3.12.3"
  }
 },
 "nbformat": 4,
 "nbformat_minor": 5
}
