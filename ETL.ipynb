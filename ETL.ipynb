{
 "cells": [
  {
   "cell_type": "markdown",
   "id": "a72e2aaa",
   "metadata": {},
   "source": [
    "## DEPENDECIES FOR ALL THE PROJECT "
   ]
  },
  {
   "cell_type": "code",
   "execution_count": 1,
   "id": "1a207434",
   "metadata": {},
   "outputs": [],
   "source": [
    "# General purpose\n",
    "import os\n",
    "from dotenv import load_dotenv\n",
    "\n",
    "# Extract (Web Scraping)\n",
    "from selenium import webdriver\n",
    "from selenium.webdriver.common.by import By\n",
    "from selenium.webdriver.chrome.service import Service\n",
    "from webdriver_manager.chrome import ChromeDriverManager\n",
    "\n",
    "# Transform & Load\n",
    "import pandas as pd\n",
    "import numpy as np\n",
    "import sqlite3\n",
    "\n",
    "# API\n",
    "from flask import Flask, jsonify\n",
    "\n",
    "# Visualize\n",
    "import dash\n",
    "from dash import dcc, html\n",
    "import plotly.express as px\n"
   ]
  },
  {
   "cell_type": "markdown",
   "id": "ca860f68",
   "metadata": {},
   "source": [
    "## SETTING UP CHROME "
   ]
  },
  {
   "cell_type": "code",
   "execution_count": 4,
   "id": "b9cc5cb4",
   "metadata": {},
   "outputs": [],
   "source": [
    "# Setting up browser for Chrome\n",
    "options = webdriver.ChromeOptions()\n",
    "\n",
    "# Run Chrome in headless mode \n",
    "options.add_argument(\"--headless\")  \n",
    "\n",
    "# Launch Chrome using the options settings above\n",
    "driver = webdriver.Chrome(service=Service(ChromeDriverManager().install()), options=options)  \n",
    "\n"
   ]
  },
  {
   "cell_type": "code",
   "execution_count": 5,
   "id": "01a027c1",
   "metadata": {},
   "outputs": [],
   "source": [
    "# Navigate browser to the bookscraping site\n",
    "driver.get(\"https://books.toscrape.com/\")\n"
   ]
  },
  {
   "cell_type": "code",
   "execution_count": null,
   "id": "9eb97012",
   "metadata": {},
   "outputs": [
    {
     "name": "stdout",
     "output_type": "stream",
     "text": [
      "All products | Books to Scrape - Sandbox\n"
     ]
    }
   ],
   "source": [
    "# Tell the browser to show us the title of the current page (to doubule check if loaded correctly)\n",
    "print(driver.title)\n"
   ]
  },
  {
   "cell_type": "code",
   "execution_count": null,
   "id": "7f94c630",
   "metadata": {},
   "outputs": [],
   "source": [
    "# Checking through the page and find all the books content (each book is inside an <article> tag with class 'product_pod')\n",
    "books = driver.find_elements(By.CLASS_NAME, \"product_pod\")\n"
   ]
  },
  {
   "cell_type": "code",
   "execution_count": 8,
   "id": "659e9275",
   "metadata": {},
   "outputs": [
    {
     "name": "stdout",
     "output_type": "stream",
     "text": [
      "Books found: 20\n"
     ]
    }
   ],
   "source": [
    "# Let's count how many books we found on the page\n",
    "print(\"Books found:\", len(books))\n"
   ]
  },
  {
   "cell_type": "markdown",
   "id": "85ee8d74",
   "metadata": {},
   "source": [
    "## SCRAPPING PROCEDURE"
   ]
  },
  {
   "cell_type": "code",
   "execution_count": 13,
   "id": "873b1f31",
   "metadata": {},
   "outputs": [
    {
     "name": "stdout",
     "output_type": "stream",
     "text": [
      "First book title: A Light in the Attic\n"
     ]
    }
   ],
   "source": [
    "# Let's grab the title of the first book on the page\n",
    "first_title = books[0].find_element(By.TAG_NAME, \"h3\").find_element(By.TAG_NAME, \"a\").get_attribute(\"title\")\n",
    "\n",
    "# Show the title of the first book to confirm we got it right\n",
    "print(\"First book title:\", first_title)"
   ]
  },
  {
   "cell_type": "code",
   "execution_count": 14,
   "id": "ad8f30b3",
   "metadata": {},
   "outputs": [
    {
     "name": "stdout",
     "output_type": "stream",
     "text": [
      "First book price: £51.77\n"
     ]
    }
   ],
   "source": [
    "# Now let's get the price of the first book\n",
    "first_price = books[0].find_element(By.CLASS_NAME, \"price_color\").text\n",
    "# Show the price of the first book to confirm we got it right\n",
    "print(\"First book price:\", first_price)\n"
   ]
  },
  {
   "cell_type": "code",
   "execution_count": null,
   "id": "7c6a6f4e",
   "metadata": {},
   "outputs": [],
   "source": []
  }
 ],
 "metadata": {
  "kernelspec": {
   "display_name": "base",
   "language": "python",
   "name": "python3"
  },
  "language_info": {
   "codemirror_mode": {
    "name": "ipython",
    "version": 3
   },
   "file_extension": ".py",
   "mimetype": "text/x-python",
   "name": "python",
   "nbconvert_exporter": "python",
   "pygments_lexer": "ipython3",
   "version": "3.12.3"
  }
 },
 "nbformat": 4,
 "nbformat_minor": 5
}
