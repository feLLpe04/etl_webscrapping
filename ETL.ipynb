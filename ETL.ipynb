{
 "cells": [
  {
   "cell_type": "markdown",
   "id": "a72e2aaa",
   "metadata": {},
   "source": [
    "## DEPENDECIES FOR ALL THE PROJECT "
   ]
  },
  {
   "cell_type": "code",
   "execution_count": 1,
   "id": "1a207434",
   "metadata": {},
   "outputs": [],
   "source": [
    "# General purpose\n",
    "import os\n",
    "from dotenv import load_dotenv\n",
    "\n",
    "# Extract (Web Scraping)\n",
    "from selenium import webdriver\n",
    "from selenium.webdriver.common.by import By\n",
    "from selenium.webdriver.chrome.service import Service\n",
    "from webdriver_manager.chrome import ChromeDriverManager\n",
    "\n",
    "# Transform & Load\n",
    "import pandas as pd\n",
    "import numpy as np\n",
    "import sqlite3\n",
    "\n",
    "# API\n",
    "from flask import Flask, jsonify\n",
    "\n",
    "# Visualize\n",
    "import dash\n",
    "from dash import dcc, html\n",
    "import plotly.express as px\n"
   ]
  },
  {
   "cell_type": "markdown",
   "id": "ca860f68",
   "metadata": {},
   "source": [
    "## SETTING UP CHROME "
   ]
  },
  {
   "cell_type": "code",
   "execution_count": 2,
   "id": "b9cc5cb4",
   "metadata": {},
   "outputs": [],
   "source": [
    "# Setting up browser for Chrome\n",
    "options = webdriver.ChromeOptions()\n",
    "\n",
    "# Run Chrome in headless mode \n",
    "options.add_argument(\"--headless\")  \n",
    "\n",
    "# Launch Chrome using the options settings above\n",
    "driver = webdriver.Chrome(service=Service(ChromeDriverManager().install()), options=options)  \n",
    "\n"
   ]
  },
  {
   "cell_type": "code",
   "execution_count": 3,
   "id": "01a027c1",
   "metadata": {},
   "outputs": [],
   "source": [
    "# Navigate browser to the bookscraping site\n",
    "driver.get(\"https://books.toscrape.com/\")\n"
   ]
  },
  {
   "cell_type": "code",
   "execution_count": 4,
   "id": "9eb97012",
   "metadata": {},
   "outputs": [
    {
     "name": "stdout",
     "output_type": "stream",
     "text": [
      "All products | Books to Scrape - Sandbox\n"
     ]
    }
   ],
   "source": [
    "# Tell the browser to show us the title of the current page (to doubule check if loaded correctly)\n",
    "print(driver.title)\n"
   ]
  },
  {
   "cell_type": "code",
   "execution_count": 5,
   "id": "7f94c630",
   "metadata": {},
   "outputs": [],
   "source": [
    "# Checking through the page and find all the books content (each book is inside an <article> tag with class 'product_pod')\n",
    "books = driver.find_elements(By.CLASS_NAME, \"product_pod\")\n"
   ]
  },
  {
   "cell_type": "code",
   "execution_count": 6,
   "id": "659e9275",
   "metadata": {},
   "outputs": [
    {
     "name": "stdout",
     "output_type": "stream",
     "text": [
      "Books found: 20\n"
     ]
    }
   ],
   "source": [
    "# Let's count how many books we found on the page\n",
    "print(\"Books found:\", len(books))\n"
   ]
  },
  {
   "cell_type": "markdown",
   "id": "85ee8d74",
   "metadata": {},
   "source": [
    "## SCRAPING PROCEDURE"
   ]
  },
  {
   "cell_type": "code",
   "execution_count": 7,
   "id": "873b1f31",
   "metadata": {},
   "outputs": [
    {
     "name": "stdout",
     "output_type": "stream",
     "text": [
      "First book title: A Light in the Attic\n"
     ]
    }
   ],
   "source": [
    "# Let's grab the title of the first book on the page\n",
    "first_title = books[0].find_element(By.TAG_NAME, \"h3\").find_element(By.TAG_NAME, \"a\").get_attribute(\"title\")\n",
    "\n",
    "# Show the title of the first book to confirm we got it right\n",
    "print(\"First book title:\", first_title)"
   ]
  },
  {
   "cell_type": "code",
   "execution_count": null,
   "id": "ad8f30b3",
   "metadata": {},
   "outputs": [
    {
     "name": "stdout",
     "output_type": "stream",
     "text": [
      "First book price: £51.77\n"
     ]
    }
   ],
   "source": [
    "# Now let's get the price of the first book\n",
    "first_price = books[0].find_element(By.CLASS_NAME, \"price_color\").text\n",
    "\n",
    "# Show the price of the first book to confirm we got it right\n",
    "print(\"First book price:\", first_price)\n"
   ]
  },
  {
   "cell_type": "code",
   "execution_count": null,
   "id": "6ce90dc7",
   "metadata": {},
   "outputs": [
    {
     "name": "stdout",
     "output_type": "stream",
     "text": [
      "First book availability: In stock\n"
     ]
    }
   ],
   "source": [
    "# Let's check if the first book is available (in stock or not)\n",
    "first_availability = books[0].find_element(By.CLASS_NAME, \"availability\").text.strip()\n",
    "\n",
    "# Show the availability of the first book to confirm we got it right\n",
    "print(\"First book availability:\", first_availability)\n"
   ]
  },
  {
   "cell_type": "code",
   "execution_count": 11,
   "id": "ac82b2ee",
   "metadata": {},
   "outputs": [
    {
     "name": "stdout",
     "output_type": "stream",
     "text": [
      "First book rating: Three\n"
     ]
    }
   ],
   "source": [
    "# Let's get the rating of the first book (like 'Three', 'Four', etc.)\n",
    "first_rating = books[0].find_element(By.CLASS_NAME, \"star-rating\").get_attribute(\"class\").split()[-1]\n",
    "\n",
    "# Show the rating of the first book to confirm we got it right\n",
    "print(\"First book rating:\", first_rating)"
   ]
  },
  {
   "cell_type": "code",
   "execution_count": 13,
   "id": "2ff7bdb0",
   "metadata": {},
   "outputs": [
    {
     "data": {
      "text/plain": [
       "[{'title': '...', 'price': '...', 'availability': '...', 'rating': '...'},\n",
       " Ellipsis]"
      ]
     },
     "execution_count": 13,
     "metadata": {},
     "output_type": "execute_result"
    }
   ],
   "source": [
    "[\n",
    "  {'title': '...', 'price': '...', 'availability': '...', 'rating': '...'},\n",
    "  ...\n",
    "]\n"
   ]
  },
  {
   "cell_type": "code",
   "execution_count": 16,
   "id": "95a7d9f1",
   "metadata": {},
   "outputs": [],
   "source": [
    "# Create a list to hold all the book data\n",
    "book_data = []\n"
   ]
  },
  {
   "cell_type": "code",
   "execution_count": 18,
   "id": "2dc38dba",
   "metadata": {},
   "outputs": [],
   "source": [
    "# Go through each book found on the page, one by one\n",
    "for book in books:\n",
    "\ttitle = book.find_element(By.TAG_NAME, \"h3\").find_element(By.TAG_NAME, \"a\").get_attribute(\"title\")\n",
    "\tprice = book.find_element(By.CLASS_NAME, \"price_color\").text\n",
    "\tavailability = book.find_element(By.CLASS_NAME, \"availability\").text.strip()\n",
    "\trating = book.find_element(By.CLASS_NAME, \"star-rating\").get_attribute(\"class\").split()[-1]\n",
    "\tbook_data.append({\n",
    "\t\t'title': title,\n",
    "\t\t'price': price,\n",
    "\t\t'availability': availability,\n",
    "\t\t'rating': rating\n",
    "\t})\n"
   ]
  },
  {
   "cell_type": "code",
   "execution_count": 19,
   "id": "7aa0438b",
   "metadata": {},
   "outputs": [
    {
     "name": "stdout",
     "output_type": "stream",
     "text": [
      "[{'title': 'A Light in the Attic', 'price': '£51.77', 'availability': 'In stock', 'rating': 'Three'}, {'title': 'Tipping the Velvet', 'price': '£53.74', 'availability': 'In stock', 'rating': 'One'}, {'title': 'Soumission', 'price': '£50.10', 'availability': 'In stock', 'rating': 'One'}]\n"
     ]
    }
   ],
   "source": [
    "# Show the first 3 books collected to preview the results\n",
    "print(book_data[:3])\n"
   ]
  }
 ],
 "metadata": {
  "kernelspec": {
   "display_name": "base",
   "language": "python",
   "name": "python3"
  },
  "language_info": {
   "codemirror_mode": {
    "name": "ipython",
    "version": 3
   },
   "file_extension": ".py",
   "mimetype": "text/x-python",
   "name": "python",
   "nbconvert_exporter": "python",
   "pygments_lexer": "ipython3",
   "version": "3.12.3"
  }
 },
 "nbformat": 4,
 "nbformat_minor": 5
}
